{
 "cells": [
  {
   "cell_type": "markdown",
   "metadata": {},
   "source": [
    "# Python-Lab5\n",
    "## Lists\n",
    "### Given the following list : [5, 4, 17, 19, 30, 2, 7, 10, 45]\n",
    "\n",
    "- Q1: Write a Python program to sum all the items in the list.\n",
    "\n",
    "- Q2: Write a Python program to get the largest number from the list.\n",
    "\n",
    "- Q3: Use list comprehension, create a new list from the above list containing only even numbers.\n",
    "\n",
    "- Q4: Use list slicing to get a new list from the previous list starting from the start to the 5th element in the list.\n"
   ]
  },
  {
   "cell_type": "code",
   "execution_count": 18,
   "metadata": {},
   "outputs": [
    {
     "name": "stdout",
     "output_type": "stream",
     "text": [
      "The result of summing the array 139\n"
     ]
    }
   ],
   "source": [
    "my_list = [5, 4, 17, 19, 30, 2, 7, 10, 45]\n",
    "\n",
    "# Q1: Write a Python program to sum all the items in the list\n",
    "print (\"The result of summing the array\", sum(my_list))\n"
   ]
  },
  {
   "cell_type": "code",
   "execution_count": 19,
   "metadata": {},
   "outputs": [
    {
     "name": "stdout",
     "output_type": "stream",
     "text": [
      "The result of largest number from the list 45\n"
     ]
    }
   ],
   "source": [
    "#Q2: Write a Python program to get the largest number from the list.\n",
    "print (\"The result of largest number from the list\", max(my_list))\n"
   ]
  },
  {
   "cell_type": "code",
   "execution_count": 20,
   "metadata": {},
   "outputs": [
    {
     "name": "stdout",
     "output_type": "stream",
     "text": [
      "[4, 30, 2, 10]\n"
     ]
    }
   ],
   "source": [
    "#Q3:Use list comprehension, create a new list from the above list containing only even numbers\n",
    "newlst2 = []\n",
    "newlst2 = [item for item in my_list  if (item % 2 == 0) ]\n",
    "print(newlst2)\n"
   ]
  },
  {
   "cell_type": "code",
   "execution_count": 21,
   "metadata": {},
   "outputs": [
    {
     "name": "stdout",
     "output_type": "stream",
     "text": [
      "new list from the start to the 5th element in the list [5, 4, 17, 19, 30]\n"
     ]
    }
   ],
   "source": [
    "#Q4: Use list slicing to get a new list from the previous list starting from the start to the 5th element in the list.\n",
    "print(\"new list from the start to the 5th element in the list\",my_list[:5])\n",
    "    "
   ]
  }
 ],
 "metadata": {
  "kernelspec": {
   "display_name": "Python 3",
   "language": "python",
   "name": "python3"
  },
  "language_info": {
   "codemirror_mode": {
    "name": "ipython",
    "version": 3
   },
   "file_extension": ".py",
   "mimetype": "text/x-python",
   "name": "python",
   "nbconvert_exporter": "python",
   "pygments_lexer": "ipython3",
   "version": "3.8.5"
  }
 },
 "nbformat": 4,
 "nbformat_minor": 4
}
