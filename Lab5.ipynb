{
 "cells": [
  {
   "cell_type": "code",
   "execution_count": 56,
   "id": "9d2c42fb",
   "metadata": {},
   "outputs": [
    {
     "name": "stdout",
     "output_type": "stream",
     "text": [
      "The sum of all the items in the list is: 139\n"
     ]
    }
   ],
   "source": [
    "list1 = [5, 4, 17, 19, 30, 2, 7, 10, 45]\n",
    "lne = len(list1)\n",
    "x = 0\n",
    "for i in range(0, lne):\n",
    "    x += lst[i]\n",
    "print(\"The sum of all the items in the list is:\",x)"
   ]
  },
  {
   "cell_type": "code",
   "execution_count": 57,
   "id": "e0157b9e",
   "metadata": {},
   "outputs": [
    {
     "name": "stdout",
     "output_type": "stream",
     "text": [
      "The largest number is:  45\n"
     ]
    }
   ],
   "source": [
    "y = max(list1)\n",
    "print(\"The largest number is: \",y)"
   ]
  },
  {
   "cell_type": "code",
   "execution_count": 59,
   "id": "ff0eecdb",
   "metadata": {},
   "outputs": [
    {
     "name": "stdout",
     "output_type": "stream",
     "text": [
      "Even numbers in the list:  [4, 30, 2, 10]\n"
     ]
    }
   ],
   "source": [
    "list2 = [num for num in list1 if num % 2 == 0]\n",
    "print(\"Even numbers in the list: \", list2)"
   ]
  },
  {
   "cell_type": "code",
   "execution_count": 60,
   "id": "97badef6",
   "metadata": {},
   "outputs": [
    {
     "name": "stdout",
     "output_type": "stream",
     "text": [
      "[5, 4, 17, 19, 30]\n"
     ]
    }
   ],
   "source": [
    "print(lst[0:5])"
   ]
  }
 ],
 "metadata": {
  "kernelspec": {
   "display_name": "Python 3 (ipykernel)",
   "language": "python",
   "name": "python3"
  },
  "language_info": {
   "codemirror_mode": {
    "name": "ipython",
    "version": 3
   },
   "file_extension": ".py",
   "mimetype": "text/x-python",
   "name": "python",
   "nbconvert_exporter": "python",
   "pygments_lexer": "ipython3",
   "version": "3.10.9"
  }
 },
 "nbformat": 4,
 "nbformat_minor": 5
}
