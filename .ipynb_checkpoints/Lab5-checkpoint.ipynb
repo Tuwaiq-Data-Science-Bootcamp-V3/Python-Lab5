{
 "cells": [
  {
   "cell_type": "code",
   "execution_count": 1,
   "id": "e15e3c31",
   "metadata": {},
   "outputs": [
    {
     "name": "stdout",
     "output_type": "stream",
     "text": [
      "The Sum numbers with Normal Way is : 139\n",
      "Max Value with Normal Way  45\n",
      "Even Numbers is :  [4, 30, 2, 10]\n",
      "139\n",
      "45\n"
     ]
    }
   ],
   "source": [
    "\n",
    "List =  [5, 4, 17, 19, 30, 2, 7, 10, 45]\n",
    "'''\n",
    "Q1 - Write a Python program to sum all the items in the list.\n",
    "    1-Create Var Sum \n",
    "    2- for loop to collect all values\n",
    "\n",
    "'''\n",
    "def Sum_Number(List): # built in fun\n",
    "    return sum(List)\n",
    "\n",
    "SumNumbers =0 \n",
    "for i in List: ## Normal Way \n",
    "    SumNumbers+=i\n",
    "\n",
    "print(\"The Sum numbers with Normal Way is :\" , SumNumbers)\n",
    "#-------------------------------------------\n",
    "\n",
    "'''\n",
    "Q2-Write a Python program to get the largest number from the list\n",
    "1- Create First Var to take first index of List \n",
    "2- for loop to check if the number is largets or not .\n",
    "\n",
    "'''\n",
    "def Max_Number(List):#built in fun\n",
    "    return max(List)\n",
    "\n",
    "first =List[0]  # Find the Max Value in List Normal Way\n",
    "for i in List:\n",
    "    if first <i:\n",
    "        first =i\n",
    "print(\"Max Value with Normal Way \" , first)\n",
    "\n",
    "''' Q3 Only Even Numbers \n",
    "  1- Create Even_List Variable \n",
    "  2- for loop to check if the number is even or not using % opreator mean remainder of the division\n",
    "  3- add the Even number into List\n",
    "'''\n",
    "'''\n",
    "Q4: Use list slicing to get a new list from the previous list starting from the start to the 5th element in the list\n",
    "\n",
    "'''\n",
    "Even_List=[i for i in List if i%2==0 ]\n",
    "print(\"Even Numbers is : \" ,Even_List)\n",
    "\n",
    "print(Sum_Number(List))\n",
    "print(Max_Number(List))\n"
   ]
  },
  {
   "cell_type": "code",
   "execution_count": null,
   "id": "5bf3c387",
   "metadata": {},
   "outputs": [],
   "source": []
  }
 ],
 "metadata": {
  "kernelspec": {
   "display_name": "Python 3 (ipykernel)",
   "language": "python",
   "name": "python3"
  },
  "language_info": {
   "codemirror_mode": {
    "name": "ipython",
    "version": 3
   },
   "file_extension": ".py",
   "mimetype": "text/x-python",
   "name": "python",
   "nbconvert_exporter": "python",
   "pygments_lexer": "ipython3",
   "version": "3.10.9"
  }
 },
 "nbformat": 4,
 "nbformat_minor": 5
}
