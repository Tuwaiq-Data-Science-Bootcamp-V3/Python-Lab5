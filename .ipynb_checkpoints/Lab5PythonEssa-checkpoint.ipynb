{
 "cells": [
  {
   "cell_type": "code",
   "execution_count": 29,
   "id": "fc90b15c",
   "metadata": {},
   "outputs": [
    {
     "name": "stdout",
     "output_type": "stream",
     "text": [
      "139\n",
      "139\n",
      "45\n",
      "[4, 30, 2, 10]\n",
      "[5, 4, 17, 19, 30]\n"
     ]
    }
   ],
   "source": [
    "#Q1:\n",
    "ListOfNumbers = [5, 4, 17, 19, 30, 2, 7, 10, 45]\n",
    "SumOfNumbers = sum(ListOfNumbers)\n",
    "\n",
    "print(SumOfNumbers)\n",
    "\n",
    "#This is another way using for loop\n",
    "\n",
    "\n",
    "test = 0\n",
    "\n",
    "for i in ListOfNumbers:\n",
    "        test += i\n",
    "print(test)\n",
    "\n",
    "\n",
    "\n",
    "################################################\n",
    "\n",
    "#Q2:\n",
    "MaxOfNumbers = max(ListOfNumbers)\n",
    "print(MaxOfNumbers)\n",
    "\n",
    "############################################\n",
    "#Q3:\n",
    "EvenNumbers = [i for i in ListOfNumbers if i % 2 == 0]\n",
    "print(EvenNumbers)\n",
    "\n",
    "###########################################\n",
    "#Q4:\n",
    "NewList = ListOfNumbers[:5]\n",
    "print(NewList)\n",
    "    \n"
   ]
  },
  {
   "cell_type": "code",
   "execution_count": null,
   "id": "1904916c",
   "metadata": {},
   "outputs": [],
   "source": []
  },
  {
   "cell_type": "code",
   "execution_count": null,
   "id": "e9dd4e19",
   "metadata": {},
   "outputs": [],
   "source": []
  }
 ],
 "metadata": {
  "kernelspec": {
   "display_name": "Python 3 (ipykernel)",
   "language": "python",
   "name": "python3"
  },
  "language_info": {
   "codemirror_mode": {
    "name": "ipython",
    "version": 3
   },
   "file_extension": ".py",
   "mimetype": "text/x-python",
   "name": "python",
   "nbconvert_exporter": "python",
   "pygments_lexer": "ipython3",
   "version": "3.9.13"
  }
 },
 "nbformat": 4,
 "nbformat_minor": 5
}
