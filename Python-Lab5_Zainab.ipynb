{
 "cells": [
  {
   "cell_type": "markdown",
   "id": "7c9eb567",
   "metadata": {},
   "source": [
    "# Zainab Melaibari"
   ]
  },
  {
   "cell_type": "markdown",
   "id": "1dcea4eb",
   "metadata": {},
   "source": [
    "# Python-Lab5\n",
    "## Lists\n",
    "**Given the following list : [5, 4, 17, 19, 30, 2, 7, 10, 45]**\n",
    "- Q1: Write a Python program to sum all the items in the list.\n",
    "- Q2: Write a Python program to get the largest number from the list.\n",
    "- Q3: Use list comprehension, create a new list from the above list containing only even numbers.\n",
    "- Q4: Use list slicing to get a new list from the previous list starting from the start to the 5th element in the list.\n"
   ]
  },
  {
   "cell_type": "code",
   "execution_count": 8,
   "id": "60e57466",
   "metadata": {},
   "outputs": [],
   "source": [
    "myList = [5, 4, 17, 19, 30, 2, 7, 10, 45]\n",
    "\n",
    "# Q1: Write a Python program to sum all the items in the list.\n",
    "listSum = sum(myList)\n",
    "\n",
    "# Q2: Write a Python program to get the largest number from the list.\n",
    "listMax = max(myList)\n",
    "\n",
    "# Q3: Use list comprehension, create a new list from the above list containing only even numbers.\n",
    "listEvens = [num for num in myList if num % 2 == 0]\n",
    "\n",
    "# Q4: Use list slicing to get a new list from the previous list starting from the start to the 5th element in the list.\n",
    "listSlice = myList[:5]"
   ]
  },
  {
   "cell_type": "code",
   "execution_count": 9,
   "id": "a2ed10f5",
   "metadata": {},
   "outputs": [
    {
     "name": "stdout",
     "output_type": "stream",
     "text": [
      "list sum:  139\n",
      "list largest num:  45\n",
      "even numbers in the list:  [4, 30, 2, 10]\n",
      "sliced list:  [5, 4, 17, 19, 30]\n"
     ]
    }
   ],
   "source": [
    "print(\"list sum: \",listSum)\n",
    "print(\"list largest num: \",listMax)\n",
    "print(\"even numbers in the list: \",listEvens)\n",
    "print(\"sliced list: \",listSlice)"
   ]
  }
 ],
 "metadata": {
  "kernelspec": {
   "display_name": "Python 3 (ipykernel)",
   "language": "python",
   "name": "python3"
  },
  "language_info": {
   "codemirror_mode": {
    "name": "ipython",
    "version": 3
   },
   "file_extension": ".py",
   "mimetype": "text/x-python",
   "name": "python",
   "nbconvert_exporter": "python",
   "pygments_lexer": "ipython3",
   "version": "3.9.12"
  }
 },
 "nbformat": 4,
 "nbformat_minor": 5
}
