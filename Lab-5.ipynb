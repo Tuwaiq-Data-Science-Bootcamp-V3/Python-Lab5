{
 "cells": [
  {
   "cell_type": "code",
   "execution_count": 4,
   "id": "d927b661",
   "metadata": {},
   "outputs": [
    {
     "data": {
      "text/plain": [
       "139"
      ]
     },
     "execution_count": 4,
     "metadata": {},
     "output_type": "execute_result"
    }
   ],
   "source": [
    "numList=[5, 4, 17, 19, 30, 2, 7, 10, 45]\n",
    "#Q1: Write a Python program to sum all the items in the list.\n",
    "sum(numList)"
   ]
  },
  {
   "cell_type": "code",
   "execution_count": 5,
   "id": "c5dbfb1b",
   "metadata": {},
   "outputs": [
    {
     "data": {
      "text/plain": [
       "45"
      ]
     },
     "execution_count": 5,
     "metadata": {},
     "output_type": "execute_result"
    }
   ],
   "source": [
    "#Q2: Write a Python program to get the largest number from the list.\n",
    "max(numList)"
   ]
  },
  {
   "cell_type": "code",
   "execution_count": 17,
   "id": "dad9072d",
   "metadata": {},
   "outputs": [
    {
     "name": "stdout",
     "output_type": "stream",
     "text": [
      "[4, 30, 2, 10]\n"
     ]
    }
   ],
   "source": [
    "#Q3: Use list comprehension, create a new list from the above list containing only even numbers.\n",
    "evenNum=[num for num in numList if num%2==0] \n",
    "print(evenNum)"
   ]
  },
  {
   "cell_type": "code",
   "execution_count": 20,
   "id": "59e257e5",
   "metadata": {},
   "outputs": [
    {
     "name": "stdout",
     "output_type": "stream",
     "text": [
      "[5, 4, 17, 19, 30]\n"
     ]
    }
   ],
   "source": [
    "#Q4: Use list slicing to get a new list from the previous list starting from the start to the 5th element in the list.\n",
    "list1=numList[:5]\n",
    "print(list1)"
   ]
  }
 ],
 "metadata": {
  "kernelspec": {
   "display_name": "Python 3 (ipykernel)",
   "language": "python",
   "name": "python3"
  },
  "language_info": {
   "codemirror_mode": {
    "name": "ipython",
    "version": 3
   },
   "file_extension": ".py",
   "mimetype": "text/x-python",
   "name": "python",
   "nbconvert_exporter": "python",
   "pygments_lexer": "ipython3",
   "version": "3.9.13"
  }
 },
 "nbformat": 4,
 "nbformat_minor": 5
}
