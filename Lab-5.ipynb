{
 "cells": [
  {
   "cell_type": "markdown",
   "id": "c68088a9",
   "metadata": {},
   "source": [
    "# Python-Lab5"
   ]
  },
  {
   "cell_type": "markdown",
   "id": "206bd411",
   "metadata": {},
   "source": [
    "## List"
   ]
  },
  {
   "cell_type": "markdown",
   "id": "5dbf6203",
   "metadata": {},
   "source": [
    "### Given the following list : [5, 4, 17, 19, 30, 2, 7, 10, 45]"
   ]
  },
  {
   "cell_type": "code",
   "execution_count": 1,
   "id": "4940f320",
   "metadata": {},
   "outputs": [],
   "source": [
    "MyList= [5, 4, 17, 19, 30, 2, 7, 10, 45] # Creat List"
   ]
  },
  {
   "cell_type": "markdown",
   "id": "f5682aa6",
   "metadata": {},
   "source": [
    "- Q1: Write a Python program to sum all the items in the list."
   ]
  },
  {
   "cell_type": "code",
   "execution_count": 2,
   "id": "e9e49580",
   "metadata": {
    "scrolled": true
   },
   "outputs": [
    {
     "data": {
      "text/plain": [
       "139"
      ]
     },
     "execution_count": 2,
     "metadata": {},
     "output_type": "execute_result"
    }
   ],
   "source": [
    "sum(MyList) # sum all the items in the list using sum() function."
   ]
  },
  {
   "cell_type": "code",
   "execution_count": 3,
   "id": "d1725473",
   "metadata": {},
   "outputs": [
    {
     "name": "stdout",
     "output_type": "stream",
     "text": [
      "139\n"
     ]
    }
   ],
   "source": [
    "sum_items = 0  # create value to save sum numbers\n",
    "for i in MyList: # create for loop to check all items in list\n",
    "    sum_items = sum_items + i # addition between items in list \n",
    "print(sum_items) # print total sum\n",
    "    "
   ]
  },
  {
   "cell_type": "markdown",
   "id": "5e2fa3cc",
   "metadata": {},
   "source": [
    "- Q2: Write a Python program to get the largest number from the list."
   ]
  },
  {
   "cell_type": "code",
   "execution_count": 4,
   "id": "2dcd42fc",
   "metadata": {
    "scrolled": true
   },
   "outputs": [
    {
     "data": {
      "text/plain": [
       "2"
      ]
     },
     "execution_count": 4,
     "metadata": {},
     "output_type": "execute_result"
    }
   ],
   "source": [
    "min(MyList) # Get the largest number in the list using min() function."
   ]
  },
  {
   "cell_type": "code",
   "execution_count": 5,
   "id": "f721254f",
   "metadata": {},
   "outputs": [
    {
     "name": "stdout",
     "output_type": "stream",
     "text": [
      "2\n"
     ]
    }
   ],
   "source": [
    "min_num = MyList[0]  #create variable for the first value in list\n",
    "\n",
    "for num in MyList: # Get the largest number in the list using for loop\n",
    "    if num < min_num: #check num if num less than first value in list go inside conditional\n",
    "        min_num = num   #here set the num as min_num\n",
    "\n",
    "print(min_num)"
   ]
  },
  {
   "cell_type": "markdown",
   "id": "d268d4c1",
   "metadata": {},
   "source": [
    "- Q3: Use list comprehension, create a new list from the above list containing only even numbers."
   ]
  },
  {
   "cell_type": "code",
   "execution_count": 6,
   "id": "5c9fa0fe",
   "metadata": {},
   "outputs": [
    {
     "data": {
      "text/plain": [
       "[4, 30, 2, 10]"
      ]
     },
     "execution_count": 6,
     "metadata": {},
     "output_type": "execute_result"
    }
   ],
   "source": [
    "EvenList = [num for num in MyList if num % 2 == 0] #using list comprehension with Using the conditional if, to check if the number is even or not\n",
    "EvenList"
   ]
  },
  {
   "cell_type": "markdown",
   "id": "a8eb900a",
   "metadata": {},
   "source": [
    "- Q4: Use list slicing to get a new list from the previous list starting from the start to the 5th element in the list."
   ]
  },
  {
   "cell_type": "code",
   "execution_count": 7,
   "id": "85c7a895",
   "metadata": {},
   "outputs": [
    {
     "data": {
      "text/plain": [
       "[5, 4, 17, 19, 30]"
      ]
     },
     "execution_count": 7,
     "metadata": {},
     "output_type": "execute_result"
    }
   ],
   "source": [
    "NewList2=MyList[:5]\n",
    "NewList2"
   ]
  }
 ],
 "metadata": {
  "kernelspec": {
   "display_name": "Python 3 (ipykernel)",
   "language": "python",
   "name": "python3"
  },
  "language_info": {
   "codemirror_mode": {
    "name": "ipython",
    "version": 3
   },
   "file_extension": ".py",
   "mimetype": "text/x-python",
   "name": "python",
   "nbconvert_exporter": "python",
   "pygments_lexer": "ipython3",
   "version": "3.10.9"
  }
 },
 "nbformat": 4,
 "nbformat_minor": 5
}
