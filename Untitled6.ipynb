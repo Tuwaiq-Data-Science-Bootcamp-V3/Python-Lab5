{
 "cells": [
  {
   "cell_type": "markdown",
   "id": "9c2f4046",
   "metadata": {},
   "source": [
    "# Given the following list : [5, 4, 17, 19, 30, 2, 7, 10, 45]\n",
    "\n",
    "- Q1: Write a Python program to sum all the items in the list.\n",
    "- Q2: Write a Python program to get the largest number from the list.\n",
    "- Q3: Use list comprehension, create a new list from the above list containing only even numbers.\n",
    "- Q4: Use list slicing to get a new list from the previous list starting from the start to the 5th element in the list."
   ]
  },
  {
   "cell_type": "code",
   "execution_count": 14,
   "id": "fbc6aa0a",
   "metadata": {},
   "outputs": [],
   "source": [
    "list =[5, 4, 17, 19, 30, 2, 7, 10, 45]"
   ]
  },
  {
   "cell_type": "code",
   "execution_count": 15,
   "id": "b7d803c0",
   "metadata": {},
   "outputs": [
    {
     "data": {
      "text/plain": [
       "139"
      ]
     },
     "execution_count": 15,
     "metadata": {},
     "output_type": "execute_result"
    }
   ],
   "source": [
    "total = sum(list)\n",
    "total"
   ]
  },
  {
   "cell_type": "code",
   "execution_count": 16,
   "id": "2fcddbc7",
   "metadata": {},
   "outputs": [
    {
     "name": "stdout",
     "output_type": "stream",
     "text": [
      "45\n"
     ]
    }
   ],
   "source": [
    "print(max(list))"
   ]
  },
  {
   "cell_type": "code",
   "execution_count": 31,
   "id": "6b4f5362",
   "metadata": {
    "scrolled": true
   },
   "outputs": [
    {
     "name": "stdout",
     "output_type": "stream",
     "text": [
      "4  is even\n",
      "30  is even\n",
      "2  is even\n",
      "10  is even\n"
     ]
    }
   ],
   "source": [
    "numbers = [5, 4, 17, 19, 30, 2, 7, 10, 45]\n",
    "for num in numbers:\n",
    "    if num % 2 == 0:\n",
    "        print(num,\" is even\")"
   ]
  },
  {
   "cell_type": "code",
   "execution_count": 52,
   "id": "8960a7e8",
   "metadata": {},
   "outputs": [
    {
     "name": "stdout",
     "output_type": "stream",
     "text": [
      "The first 5 elements of the list are: [5, 4, 17, 19, 30]\n"
     ]
    }
   ],
   "source": [
    "my_list = [5, 4, 17, 19, 30, 2, 7, 10, 45]\n",
    "new_list = my_list[:5]\n",
    "print(\"The first 5 elements of the list are:\", new_list)"
   ]
  }
 ],
 "metadata": {
  "kernelspec": {
   "display_name": "Python 3 (ipykernel)",
   "language": "python",
   "name": "python3"
  },
  "language_info": {
   "codemirror_mode": {
    "name": "ipython",
    "version": 3
   },
   "file_extension": ".py",
   "mimetype": "text/x-python",
   "name": "python",
   "nbconvert_exporter": "python",
   "pygments_lexer": "ipython3",
   "version": "3.9.13"
  }
 },
 "nbformat": 4,
 "nbformat_minor": 5
}
